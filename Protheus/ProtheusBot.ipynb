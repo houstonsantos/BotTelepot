{
 "metadata": {
  "language_info": {
   "codemirror_mode": {
    "name": "ipython",
    "version": 3
   },
   "file_extension": ".py",
   "mimetype": "text/x-python",
   "name": "python",
   "nbconvert_exporter": "python",
   "pygments_lexer": "ipython3",
   "version": 3
  },
  "orig_nbformat": 2
 },
 "nbformat": 4,
 "nbformat_minor": 2,
 "cells": [
  {
   "cell_type": "code",
   "execution_count": null,
   "metadata": {},
   "outputs": [],
   "source": [
    "import time\n",
    "import socket\n",
    "import telepot\n",
    "from pprint import pprint\n",
    "from telepot.loop import MessageLoop"
   ]
  },
  {
   "cell_type": "code",
   "execution_count": null,
   "metadata": {},
   "outputs": [],
   "source": [
    "# Variaveis servidor socket\n",
    "HOST = '192.168.254.39'\n",
    "PORT = 5000\n",
    "tcp = socket.socket(socket.AF_INET, socket.SOCK_STREAM)\n",
    "orig = (HOST, PORT)"
   ]
  },
  {
   "cell_type": "code",
   "execution_count": null,
   "metadata": {},
   "outputs": [],
   "source": [
    "# Abilitando servidor socket\n",
    "tcp.bind(orig)\n",
    "tcp.listen(1)\n",
    "print('Servidor Socket Up!')\n",
    "print()"
   ]
  },
  {
   "cell_type": "code",
   "execution_count": null,
   "metadata": {},
   "outputs": [],
   "source": [
    "# Variaveis bot\n",
    "# API Key Telegram\n",
    "bot = telepot.Bot(\"583743005:AAGrQb0mf8KGMkDWemi-H6x4kCfa3sAoUOY\")\n",
    "print(bot.getMe())\n",
    "print('Bot Up!')\n",
    "print()"
   ]
  },
  {
   "cell_type": "code",
   "execution_count": null,
   "metadata": {},
   "outputs": [],
   "source": [
    "# Função para receber mensagem\n",
    "def handle(msg):\n",
    "    content_type, chat_type, chat_id = telepot.glance(msg)\n",
    "\n",
    "    print(msg['text'])\n",
    "    print(content_type)\n",
    "    print(chat_type)\n",
    "    print(chat_id)\n",
    "    #pprint(msn)\n",
    "\n",
    "MessageLoop(bot, handle).run_as_thread()"
   ]
  },
  {
   "cell_type": "code",
   "execution_count": null,
   "metadata": {},
   "outputs": [],
   "source": [
    "while True:\n",
    "    pass\n",
    "    con, cliente = tcp.accept()\n",
    "    print ('Concetado por', cliente)\n",
    "    while True:\n",
    "        msg = con.recv(1024)\n",
    "        if not msg: break\n",
    "        print (cliente, msg)\n",
    "        # Enviando mensagem\n",
    "        bot.sendMessage(533943066, msg)\n",
    "    print ('Finalizando conexao do cliente', cliente)\n",
    "    con.close()"
   ]
  }
 ]
}