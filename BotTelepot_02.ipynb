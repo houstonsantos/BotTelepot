{
 "metadata": {
  "language_info": {
   "codemirror_mode": {
    "name": "ipython",
    "version": 3
   },
   "file_extension": ".py",
   "mimetype": "text/x-python",
   "name": "python",
   "nbconvert_exporter": "python",
   "pygments_lexer": "ipython3",
   "version": 3
  },
  "orig_nbformat": 2
 },
 "nbformat": 4,
 "nbformat_minor": 2,
 "cells": [
  {
   "cell_type": "code",
   "execution_count": null,
   "metadata": {},
   "outputs": [],
   "source": [
    "import time\n",
    "import telepot\n",
    "from pprint import pprint\n",
    "from telepot.loop import MessageLoop"
   ]
  },
  {
   "cell_type": "code",
   "execution_count": null,
   "metadata": {},
   "outputs": [],
   "source": [
    "# API Key Telegram\n",
    "bot = telepot.Bot(\"583743005:AAGrQb0mf8KGMkDWemi-H6x4kCfa3sAoUOY\")\n",
    "\n",
    "# Informacaoes do Bot\n",
    "print(bot.getMe())"
   ]
  },
  {
   "cell_type": "code",
   "execution_count": null,
   "metadata": {},
   "outputs": [],
   "source": [
    "# Enviando mensagem\n",
    "bot.sendMessage(996314804, 'Olá')"
   ]
  },
  {
   "cell_type": "code",
   "execution_count": null,
   "metadata": {},
   "outputs": [],
   "source": [
    "# Enviando foto\n",
    "bot.sendPhoto('533943066', 'https://i0.wp.com/casadospassaros.net/wp-content/uploads/2016/12/Papagaio-Verdadeiro.jpg')"
   ]
  },
  {
   "cell_type": "code",
   "execution_count": null,
   "metadata": {},
   "outputs": [],
   "source": [
    "# Função para receber mensagem\n",
    "def handle(msg):\n",
    "    content_type, chat_type, chat_id = telepot.glance(msg)\n",
    "\n",
    "    print(msg['text'])\n",
    "    print(content_type)\n",
    "    print(chat_type)\n",
    "    print(chat_id)\n",
    "    #pprint(msn)\n",
    "\n",
    "MessageLoop(bot, handle).run_as_thread()\n",
    "\n",
    "while True:\n",
    "    pass"
   ]
  }
 ]
}