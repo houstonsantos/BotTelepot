{
 "metadata": {
  "language_info": {
   "codemirror_mode": {
    "name": "ipython",
    "version": 3
   },
   "file_extension": ".py",
   "mimetype": "text/x-python",
   "name": "python",
   "nbconvert_exporter": "python",
   "pygments_lexer": "ipython3",
   "version": 3
  },
  "orig_nbformat": 2
 },
 "nbformat": 4,
 "nbformat_minor": 2,
 "cells": [
  {
   "cell_type": "code",
   "execution_count": null,
   "metadata": {},
   "outputs": [],
   "source": [
    "import socket\n",
    "\n",
    "HOST = b'192.168.254.93'\n",
    "PORT = 5000\n",
    "msg = b'hhhhhhkkkk'\n",
    "udp = socket.socket(socket.AF_INET, socket.SOCK_DGRAM)\n",
    "dest = (HOST, PORT)"
   ]
  },
  {
   "cell_type": "code",
   "execution_count": null,
   "metadata": {},
   "outputs": [],
   "source": [
    "print(HOST)\n",
    "print(PORT)\n",
    "print(msg)"
   ]
  },
  {
   "cell_type": "code",
   "execution_count": null,
   "metadata": {},
   "outputs": [],
   "source": [
    "udp.sendto(msg, (HOST, PORT))\n",
    "udp.close()"
   ]
  }
 ]
}