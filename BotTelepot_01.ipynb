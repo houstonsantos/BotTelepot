{
 "metadata": {
  "language_info": {
   "codemirror_mode": {
    "name": "ipython",
    "version": 3
   },
   "file_extension": ".py",
   "mimetype": "text/x-python",
   "name": "python",
   "nbconvert_exporter": "python",
   "pygments_lexer": "ipython3",
   "version": 3
  },
  "orig_nbformat": 2
 },
 "nbformat": 4,
 "nbformat_minor": 2,
 "cells": [
  {
   "cell_type": "code",
   "execution_count": null,
   "metadata": {},
   "outputs": [],
   "source": [
    "import telepot\n",
    "import time\n",
    "from pprint import pprint"
   ]
  },
  {
   "cell_type": "code",
   "execution_count": null,
   "metadata": {},
   "outputs": [],
   "source": [
    "# API Key Telegram\n",
    "bot = telepot.Bot(\"583743005:AAGrQb0mf8KGMkDWemi-H6x4kCfa3sAoUOY\")\n",
    "\n",
    "# Informacaoes do Bot\n",
    "print(bot.getMe())"
   ]
  },
  {
   "cell_type": "code",
   "execution_count": null,
   "metadata": {},
   "outputs": [],
   "source": [
    "# Recbendo mensgens\n",
    "response = bot.getUpdates(limit=1)\n",
    "pprint(response)"
   ]
  },
  {
   "cell_type": "code",
   "execution_count": null,
   "metadata": {},
   "outputs": [],
   "source": [
    "# Funcao para receber mensagem\n",
    "def handle(msn):\n",
    "    pprint(msn)\n",
    "    print(msn['text'])\n",
    "\n",
    "bot.message_loop(handle)\n",
    "\n",
    "while 1:\n",
    "    time.sleep(20)"
   ]
  }
 ]
}